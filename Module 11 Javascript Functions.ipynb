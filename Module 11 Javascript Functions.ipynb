{
 "cells": [
  {
   "cell_type": "raw",
   "metadata": {},
   "source": [
    "11.3.1 Getting Started with JavaScript Functions\n",
    "\n",
    "We imported the data.js file. \n",
    "\n",
    "The next step is to build the table to sort and store the data.\n",
    "building this table will introduce a new level of complexity involving for loops and functions. \n",
    "\n",
    "Functions in Python and JavaScript have similar logic: we provide the language with a set of instructions to follow, which can then be reused as needed."
   ]
  },
  {
   "cell_type": "raw",
   "metadata": {},
   "source": [
    "To write a print statement in JavaScript, we begin by declaring the function. \n",
    "\n",
    "To do this, we use the keyword function. \n",
    "(Note: Remember that the JavaScript syntax uses console.log instead of print.)\n",
    "\n",
    "// Simple JavaScript console.log statement\n",
    "function printHello();\n",
    "\n",
    "The next step is to add a set of curly brackets, and then add the indented code between them.\n",
    "\n",
    "// Simple JavaScript console.log statement\n",
    "function printHello() {\n",
    "  console.log(\"Hello there!\");\n",
    "}\n",
    "\n",
    "EX\n",
    "Choose the correct JavaScript version of this Python function:\n",
    "\n",
    "def show():\n",
    "    print(\"Hi!\")\n",
    "    \n",
    "    function show() {\n",
    "    return ”Hi!”;\n",
    "    };"
   ]
  },
  {
   "cell_type": "raw",
   "metadata": {},
   "source": [
    "11.3.2 Simple JavaScript Functions\n",
    "\n",
    "\n",
    "Arguments can be passed into both Python and JavaScript functions.\n",
    "\n",
    "// Takes two numbers and adds them\n",
    "function addition(a, b) {\n",
    "  return a + b;\n",
    "}\n",
    "\n",
    "Using the numbers 4 and 5, how would you run the addition function in the console?\n",
    "\n",
    "console.log(addition(4, 5));\n",
    "\n",
    "This is the equivalent of using a print statement in Python to print the function. Like Python, we can condense the code even further by typing only addition(4, 5); to execute the function as well.\n",
    "\n",
    "In the \"addition\" function created above, the items within the parentheses are referred to as parameters. For example:\n",
    "\n",
    "function addition(a, b) { return a + b; }\n",
    "\n",
    "In this function, data points a and b are the parameters. Think of them as placeholders for the values we will add later, such as 4 and 5.\n",
    "\n",
    "SKILL DRILL\n",
    "Practice executing the addition function in your console. Try switching up the numbers and printing it with and without the use of console.log();."
   ]
  },
  {
   "cell_type": "raw",
   "metadata": {},
   "source": [
    "Functions are a versatile tool in any coding language, and JavaScript is no different. \n",
    "\n",
    "Functions can also call other functions. The code below creates a new function that includes our simple function within it. In your console, type the doubleAddition function below:\n",
    "\n",
    "// Functions can call other functions\n",
    "function doubleAddition(c, d) {\n",
    "  var total = addition(c, d) * 2;\n",
    "  return total;\n",
    "}\n",
    "\n",
    "Let's run the new function, doubleAddition, with the same figures we used earlier: 4 and 5. \n",
    "\n",
    "Within this function, we're calling our original function (addition) and multiplying the sum of 4 and 5 by 2. We've assigned a variable to the function we've already created, so that we can print the total using a return statement."
   ]
  },
  {
   "cell_type": "raw",
   "metadata": {},
   "source": [
    "11.3.3 From Simple Functions to Arrow Functions\n",
    "\n",
    "Functions in JavaScript can easily become bulky and difficult to understand. Thankfully, any standard function in JavaScript can be refactored into an arrow function. \n",
    "\n",
    "Arrow functions complete the same functions as regular functions, but they use a more compact and concise syntax that makes a code script shorter and easier to read."
   ]
  },
  {
   "cell_type": "raw",
   "metadata": {},
   "source": [
    "// Simple JavaScript log statement\n",
    "function printHello() {\n",
    "  return \"Hello there!\";\n",
    "}\n",
    "\n",
    "This function, while already fairly short and sweet, can be condensed even further. In the console, type the following code and then press Enter.\n",
    "\n",
    "printHello = () => \"Hello there!\";\n",
    "\n",
    "What are some differences between traditional functions and arrow functions? Select all that apply.\n",
    "\n",
    "There is no return statement.\n",
    "The function keyword is missing.\n",
    "console.log(); isn’t included.\n",
    "\n",
    "More indepth, the differences are...\n",
    "1. The arrow function collapses the function from 3 lines to 1 line, which is a significant reduction in characters.\n",
    "\n",
    "2. The function keyword is not part of the arrow function. This is because the arrow symbol (=>) indicates that this block (or line) of code is a function.\n",
    "\n",
    "3. The return keyword and console.log() are removed because with this new syntax, JavaScript inherently knows what will be returned."
   ]
  },
  {
   "cell_type": "raw",
   "metadata": {},
   "source": [
    "Let's convert another function, this time with parameters. Here's the original function:\n",
    "\n",
    "// Original addition function\n",
    "function addition(a, b) {\n",
    "  return a + b;\n",
    "}\n",
    "In your code editor, type the following:\n",
    "\n",
    "// Converted to an arrow function\n",
    "addition = (a, b) => a + b;\n",
    "\n",
    "Once again, a multi-line function has been reduced to a single line. We have removed the function keyword, the curly brackets, and the return statement, and added a fat arrow to indicate that \"addition\" is a function. It's clear and easy to read—and it performs the same way as the original function!"
   ]
  },
  {
   "cell_type": "raw",
   "metadata": {},
   "source": [
    "Now let's step it up one more time and convert the doubleAddition function, shown below.\n",
    "\n",
    "// Original doubleAddition function\n",
    "function doubleAddition(c, d) {\n",
    "  var total = addition(c, d) * 2;\n",
    "  return total;\n",
    "}\n",
    "\n",
    "Even this function can be refactored into a single line. Let's begin the process by following the standard syntax: the name of the function, an equals sign, and then the parameters.\n",
    "\n",
    "doubleAddition = (c, d)\n",
    "\n",
    "The next step in refactoring is to add the fat arrow followed by the argument. In this case, the argument is the second function.\n",
    "\n",
    "=> addition(c, d) * 2;\n",
    "\n",
    "\n",
    "doubleAddition = (c, d) => addition(c, d) * 2;"
   ]
  },
  {
   "cell_type": "raw",
   "metadata": {},
   "source": [
    "keep in mind that while arrow functions are clear and readable, there are still cases in which traditional functions are necessary. \n",
    "\n",
    "For example, when we want to place a function within another function, we would need to use a traditional function."
   ]
  }
 ],
 "metadata": {
  "kernelspec": {
   "display_name": "PythonData",
   "language": "python",
   "name": "pythondata"
  },
  "language_info": {
   "codemirror_mode": {
    "name": "ipython",
    "version": 3
   },
   "file_extension": ".py",
   "mimetype": "text/x-python",
   "name": "python",
   "nbconvert_exporter": "python",
   "pygments_lexer": "ipython3",
   "version": "3.7.7"
  }
 },
 "nbformat": 4,
 "nbformat_minor": 4
}
