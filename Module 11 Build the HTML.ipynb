{
 "cells": [
  {
   "cell_type": "raw",
   "metadata": {},
   "source": [
    "11.6.1 Bootstrap Components\n",
    "\n",
    "The time has come to build the webpage.\n",
    " It's also a test to see if the JavaScript code is working.\n",
    "\n",
    "First, we'll need to go back to the index.html file that we created earlier. open that file in VS Code. \n",
    "Next, use a shortcut to autofill the basic HTML layout by typing an exclamation mark on the first line, then press enter on your keyboard.\n",
    "\n",
    "change the title of the document to \"UFO Finder.\"\n",
    "\n",
    "Continue the setup by adding a link to Bootstrap's content delivery network (CDN). Under the title of the document, add this code to the link tag:\n",
    "\n",
    "<link\n",
    "      rel=\"stylesheet\"\n",
    "      href=\"https://maxcdn.bootstrapcdn.com/bootstrap/4.0.0/css/bootstrap.min.css\"\n",
    "      integrity=\"sha384-Gn5384xqQ1aoWXA+058RXPxPg6fy4IWvTNh0E263XmFcJlSAwiGgFAW/dAiS6JXm\"\n",
    "      crossorigin=\"anonymous\"\n",
    "    />"
   ]
  },
  {
   "cell_type": "raw",
   "metadata": {},
   "source": [
    "Next, add a link to our stylesheet under the link to Bootstrap's CDN. Since we created a stylesheet and index.html file at the same time, we'll just link to the style.css file that's in our css folder.\n",
    "\n",
    "<link rel=\"stylesheet\" href=\"static/css/style.css\">"
   ]
  },
  {
   "cell_type": "raw",
   "metadata": {},
   "source": [
    "Now we can begin setting up the body of the HTML, where we'll store our components. To get started, within the <body /> tags, add a <div /> with a class of \"wrapper.\"\n",
    "\n",
    "<body>\n",
    "    <div class=\"wrapper\">\n",
    "\n",
    "    </div>\n",
    "</body>\n",
    "\n",
    "The wrapper class adds a bit of extra functionality to Bootstrap. It helps group the elements (e.g., title, paragraph, table, and filters) and specifies the styling in our stylesheet.\n",
    "\n",
    "Now we can start adding the individual components."
   ]
  },
  {
   "cell_type": "raw",
   "metadata": {},
   "source": [
    "The Bootstrap Grid System\n",
    "\n",
    "Take a look at the storyboard we helped Dana create and consider how to employ the Bootstrap grid system (2.png)\n",
    "\n",
    "There are many different components to build. Let's start with the first one we see: the navigation bar (or navbar), where we'll add the functionality to reset our table filters.\n"
   ]
  },
  {
   "cell_type": "raw",
   "metadata": {},
   "source": [
    "Build the Navbar\n",
    "\n",
    "Within the wrapper we created earlier, we'll add a new component: a nav tag with a class of \"navbar navbar-expand-lg.\"\n",
    "\n",
    "      <nav class=\"navbar navbar-expand-lg\">\n",
    "\n",
    "      </nav>\n",
    "      \n",
    "The wrapper class adds a bit of extra functionality to Bootstrap. It helps group the elements (e.g., title, paragraph, table, and filters) and specifies the styling in our stylesheet.\n",
    "\n",
    "Now we can start adding the individual components."
   ]
  },
  {
   "cell_type": "raw",
   "metadata": {},
   "source": [
    "The Bootstrap Grid System\n",
    "\n",
    "Take a look at the storyboard we helped Dana create and consider how to employ the Bootstrap grid system.\n",
    "\n",
    "There are many different components to build. Let's start with the first one we see: the navigation bar (or navbar), where we'll add the functionality to reset our table filters."
   ]
  },
  {
   "cell_type": "raw",
   "metadata": {},
   "source": [
    "Build the Navbar\n",
    "\n",
    "Within the wrapper we created earlier, we'll add a new component: a nav tag with a class of \"navbar navbar-expand-lg.\"\n",
    "\n",
    "      <nav class=\"navbar navbar-expand-lg\">\n",
    "\n",
    "      </nav>\n",
    "\n",
    "These classes are specific to Bootstrap's built-in styling; \"navbar\" indicates to Bootstrap that we want a component that fits across the top of the page. \n",
    "\n",
    "Specifying \"navbar-expand-lg\" provides extra responsiveness to the default navbar behavior. When the viewing area is reduced from a large to a smaller screen, the navbar will collapse or resize itself smoothly.\n",
    "\n"
   ]
  },
  {
   "cell_type": "raw",
   "metadata": {},
   "source": [
    "Add functionality to our navbar.\n",
    "\n",
    "We don't need to redirect readers to another section of the webpage. Instead, we want to reset the webpage after a filter has been applied to the table. \n",
    "\n",
    "This is accomplished by linking to the homepage, index.html.\n",
    "\n",
    "To add a link, we'll nest an <a /> tag within the <nav /> tags.\n",
    "\n",
    "      <nav class=\"navbar navbar-expand-lg\">\n",
    "        <a class=\"navbar-brand\" href=\"index.html\">UFO Sightings</a>\n",
    "      </nav>\n",
    "      \n",
    "Why was “navbar-brand” added to the <a /> tag? \n",
    "Because “navbar-brand” is a type of default styling that helps with the site’s aesthetics.\n",
    "“navbar-brand” is a built-in style from Bootstrap that provides padding and font sizing to the element by default.\n",
    "\n",
    "After adding \"navbar-brand\" to the tag (so there is less styling to worry about later), we also added an href that points to the index.html file we're working on. \n",
    "\n",
    "When a user clicks on that link, the page will reload and the default unfiltered table will appear, ready for new input.\n",
    "\n",
    "We also need to display text in the navbar and complete the link. Dana has added \"UFO Sightings\" as the text for now.\n",
    "\n"
   ]
  },
  {
   "cell_type": "raw",
   "metadata": {},
   "source": [
    "Let's test to make sure our link to Bootstrap and the navbar is implemented correctly. Find your index.html file in your repo and open it with your default browser. The website should have a line of text that reads \"UFO Sightings\" in the top left corner.\n",
    "\n"
   ]
  },
  {
   "cell_type": "raw",
   "metadata": {},
   "source": [
    "Add the Jumbotron\n",
    "\n",
    "The first element, a navbar, has been added. Next, add the jumbotron. Because it's a new element and completely separate from the navbar, we want to add the new code beneath the existing code.\n",
    "\n",
    "Let's set up the jumbotron by adding div tags, then the proper class.\n",
    "\n",
    "Bootstrap looks for certain classes within HTML tags to indicate where to apply styling, such as by adding a \"jumbotron\" class to a div tag. \n",
    "\n",
    "Text nested within these tags will have visual enhancements automatically added. For example, a header tag nested within a jumbotron will be larger and bolder than a header tag on its own. \n",
    "\n",
    "In our code editor, let's add a jumbotron with a header that reads \"The Truth Is Out There.\"\n",
    "\n",
    "      <div class=\"jumbotron\">\n",
    "        <h1>The Truth Is Out There</h1>\n",
    "      </div>\n",
    "      \n",
    "After saving this file, refresh the page we have open in our browser.\n",
    "\n"
   ]
  },
  {
   "cell_type": "raw",
   "metadata": {},
   "source": [
    "Add the Article Title and Paragraph\n",
    "\n",
    "Add the article title and paragraph. According to our storyboard, we'll need to utilize the grid system, which will let us assign screen space to each element.\n",
    "\n",
    "The grid system, consisting of containers, rows, and columns, will need to be set up in a certain order: first the container, then a row, followed by how many columns each element will require. Create the container and row first.\n",
    "\n",
    "In your text editor, create a div with a class of \"container-fluid,\" then nest a row within it.\n",
    "\n",
    "Adding \"container-fluid\" to the div will ensure that both elements we're adding will span the width of the viewport. The \"row\" class makes sure that the title and paragraph will align neatly along the page.\n",
    "\n",
    "<div class=\"container-fluid\">\n",
    "    <div class=\"row\">\n",
    "    </div>\n",
    "</div>\n",
    "\n",
    "\n",
    "In Bootstrap, what does the “container-fluid” class do?\n",
    "It creates a container for other elements.\n",
    "Element(s) inside the container will resize as needed to fully fit the width of the browser."
   ]
  },
  {
   "cell_type": "raw",
   "metadata": {},
   "source": [
    "Now we can add our columns. According to our storyboard, the title requires less width than the paragraph.\n",
    "\n",
    "Let's assign four columns to the article title and the remaining eight to the paragraph. Remember that each element will be within its own div.\n",
    "\n",
    "          <div class=\"col-md-4\">\n",
    "\n",
    "          </div>\n",
    "          <div class=\"col-md-8\">\n",
    "\n",
    "          </div>"
   ]
  },
  {
   "cell_type": "raw",
   "metadata": {},
   "source": [
    "Now that the scaffolding is in place to hold the title and article, we can insert the title and paragraph Dana has chosen. Using an <h3 /> tag, nest the article title (\"UFO Sightings—Are They for Real? Ufologists Weigh In\") in the first column.\n",
    "\n",
    "<h3>UFO Sightings: Fact or Fancy? <small>Ufologists Weigh In</small></h3>\n",
    "\n",
    "The <small> tag we've nested in will add a little bit of extra styling out of the box, too. Adding it will help de-emphasize the second portion of the title.\n",
    "\n"
   ]
  },
  {
   "cell_type": "raw",
   "metadata": {},
   "source": [
    "In the second div we added, the one that uses eight columns, let's add Dana's article paragraph. \n",
    "\n",
    "Are we alone in the universe? For millennia, humans have turned to the sky to answer this question. Now, thanks to research generously funded by W. Avy, a UFO-enthusiast and amateur ufologist, we can supplement our sky-searching with data analysis.\n",
    "\n",
    "\"The release of this analysis is well-timed: It coincides with the celebration of World UFO Day, which is a moment for ufologists around the world to connect, relax, and sample a range of UFO-themed snacks,\" said Dr. Ursula F. Olivier, the world's preeminent expert on circular sightings. \"Citizen-scientists can be especially helpful in both cataloguing sightings—which is hugely helpful for us in our search for aliens—and in helping us celebrate the work that has already been done, such as this data visualization project, which will help us raise awareness of the ubiquity of sightings!\"\n",
    "\n",
    "Not everyone is ready to celebrate, however. Local CEO and vocal anti-alien activist V. Isualize reached out to our reporters to go on record as firmly opposed to any attempts to provide access to this data. \"If there are aliens, they certainly would like to be left alone,\" she stated, before directing us to the Leave Aliens Alone (LAA) community engagement initiative she founded and funds.\n",
    "\n",
    "So what do YOU think? Are we alone in the universe? Are aliens trying to contact us, or do they want to be left alone? Dig through the data yourself, and let us know what you see.\n",
    "\n",
    "\n",
    "OUR CODE SHOULD LOOK LIKE THIS \n",
    "\n",
    "<div class=\"container-fluid\">\n",
    "        <div class=\"row\">\n",
    "          <div class=\"col-md-4\">\n",
    "            <h3>UFO Sightings: Fact of Fancy? <small>Ufologists Weigh In</small></h3>\n",
    "          </div>\n",
    "          <div class=\"col-md-8\">\n",
    "            <p>\n",
    "              Are we alone in the universe? For millennia, humans have turned to the sky to answer this question. Now, thanks to research generously funded by W. Avy, a UFO-enthusiast and amateur ufologist, we can supplement our sky-searching with data analysis.<br><br>\"The release of this analysis is well-timed: It coincides with the celebration of World UFO Day, which is a moment for ufologists around the world to connect, relax, and sample a range of UFO-themed snacks,\" said Dr. Ursula F. Olivier, the world's preeminent expert on circular sightings. \"Citizen-scientists can be especially helpful in both cataloguing sightings—which is hugely helpful for us in our search for aliens—and in helping us celebrate the work that has already been done, such as this data visualization project, which will help us raise awareness of the ubiquity of sightings!\"<br><br>Not everyone is ready to celebrate, however. Local CEO and vocal anti-alien activist V. Isualize reached out to our reporters to go on record as firmly opposed to any attempts to provide access to this data. \"If there are aliens, they certainly would like to be left alone,\" she stated, before directing us to the Leave Aliens Alone (LAA) community engagement initiative she founded and funds.<br><br>So what do YOU think? Are we alone in the universe? Are aliens trying to contact us, or do they want to be left alone? Dig through the data yourself, and let us know what you see.\n",
    "\n",
    "\n",
    "            </p>\n",
    "          </div>\n",
    "        </div>\n",
    "      </div>"
   ]
  },
  {
   "cell_type": "raw",
   "metadata": {},
   "source": [
    "Create the Table Filter\n",
    "\n",
    "The next section of the webpage will tie together the JavaScript we've been helping Dana put together: We're going to build the section for the filter. The ids we created in our JavaScript code (#filter-btn and #datetime) will come into play here.\n",
    "\n",
    "First, we need to set up the next row that will hold the filter section and the table.\n",
    "\n",
    "SKILL DRILL\n",
    "Create a new fluid container, and then nest a row inside it. This row will be where we store our filter and the data table.\n",
    "\n",
    "When the new row has been created, we need to determine how many columns to designate for the filter section and how many for the table.\n",
    "\n",
    "Compared to the previous row, the filters section looks like it will require less column space than the article title. Let's create a divwith space for three columns and a nine-column div for the table.s\n",
    "\n",
    "      <div class=\"container-fluid\">\n",
    "        <div class=\"row\">\n",
    "          <div class=\"col-md-3\">\n",
    "\n",
    "          </div>\n",
    "          <div class=\"col-md-9\">\n",
    "\n",
    "          </div>\n",
    "        </div>\n",
    "      </div>\n",
    " \n"
   ]
  },
  {
   "cell_type": "raw",
   "metadata": {},
   "source": [
    "Let's build the filter first. This is where we'll be accepting user input, so we need to use the HTML-specific field: a form.\n",
    "\n",
    "First, we'll add a form tag, then build the form by nesting additional elements within it. Let's give the form a name so that users will know what it's for. After the <form /> tag, add a <p /> tag and the text \"Filter Search\" to that.\n",
    "\n",
    "            <form>\n",
    "              <p>Filter Search</p>\n",
    "            </form>\n",
    "            \n",
    "With this, we know what this new component is, but now we need to add what Dana's readers will be searching for. Our JavaScript code has a filter setup to search by date, so we'll need to add an input box for a date. We'll also need the button that we referenced (#filter-btn) so that searches can be executed.\n",
    "\n",
    "To add these items as cleanly as possible, we're going to create a set of list tags, nested within an unordered list tag. We'll also include some Bootstrap classes to keep things extra neat."
   ]
  },
  {
   "cell_type": "raw",
   "metadata": {},
   "source": [
    "In your code editor, let's begin by starting the unordered list. We're going to give this a class of \"list-group.\" Using this specific class lets Bootstrap apply predetermined styling to the list. We can spruce it up further if we want to after we're done.\n",
    "\n",
    "<ul class=\"list-group\">\n",
    "\n",
    "</ul>"
   ]
  },
  {
   "cell_type": "raw",
   "metadata": {},
   "source": [
    "Next we need to add the list items: one for the input, one for the button. Each <li /> tag will have a class of \"list-group-item.\"\n",
    "\n",
    "<li class=\"list-group-item\">\n",
    "\n",
    "</li>\n",
    "<li class=\"list-group-item\">\n",
    "\n",
    "</li>"
   ]
  },
  {
   "cell_type": "raw",
   "metadata": {},
   "source": [
    "Now let's add the date input field in the first <li /> tag. We'll add two new HTML components here: label and input. The label will be used as a prompt to encourage users to input a date. The input field is where users will complete the input.\n",
    "\n",
    "In your code editor, add the label tag with the following modifications:\n",
    "\n",
    "<label for=\"date\">Enter Date</label>\n",
    "\n",
    "This label represents a caption for the date item. The text Enter Date serves as the actual label.\n"
   ]
  },
  {
   "cell_type": "raw",
   "metadata": {},
   "source": [
    "\n",
    "On the next line, let's add the input.\n",
    "\n",
    "<input type=\"text\" placeholder=\"1/10/2010\" id=\"datetime\" />\n",
    "\n",
    "There are three things to keep in mind when looking at this input:\n",
    "\n",
    "1. The type=\"text\" means that the code will look for text to be input.\n",
    "\n",
    "2. The placeholder is an example of a date to search, so users know both the location and the format to use when inputting a date.\n",
    "\n",
    "3. The id=\"datetime\" is what our JavaScript code will look for when the button is clicked and the function is executed.\n"
   ]
  },
  {
   "cell_type": "raw",
   "metadata": {},
   "source": [
    "Now we need to add our button. In the next <li /> we'll add a button tag with a few additional attributes: the id we defined in our JavaScript code (#filter-btn), a type, and a class. Let's add this as well.\n",
    "\n",
    "<button id=\"filter-btn\" type=\"button\" class=\"btn btn-default\">Filter Table</button>\n",
    "\n",
    "When the button is clicked, the input from earlier is picked up by our JavaScript code and then applied to the filter.\n",
    "\n",
    "type=\"button\" tells the browser that, by default, the button does nothing. However, our custom JavaScript script will overwrite the default behavior—as if the button is waiting for instruction.\n",
    "\n",
    "The class=\"btn btn-default\" attribute adds some Bootstrap styling to the mix to help keep the element neat and tidy. Finally, we've named our button \"Filter Table,\" by nesting it between the opening and closing button tags.\n",
    "\n"
   ]
  },
  {
   "cell_type": "raw",
   "metadata": {},
   "source": [
    "Prep the Table for Data\n",
    "\n",
    "With the filter in place, we're now able to build the table. In our app.js script, we use D3 to select the \"tbody\" HTML tag. We're going to build that component and link the JavaScript and HTML files.\n",
    "\n",
    "The table and filter components are both inside the same container, so we only need to construct the table HTML.\n",
    "\n",
    "An HTML table has several nested layers:\n",
    "\n",
    "<table>\n",
    "    <thead>\n",
    "        <tr>\n",
    "            <th>\n",
    "    <tbody>\n",
    "    \n",
    "1. <table> - the table for the container itself, all of the different table components are nested with it.\n",
    "2. <thead> - an element that will display each column header\n",
    "3. <tr> - A tag that signifies a table row. When other tags are nested within it, they are displayed as a row of information. \n",
    "4. <th> - The header of each column, also reffered to as the column name. \n",
    "5. <tbody> - The container for the body of the table, where the data will be displayed. \n",
    "\n",
    "\n"
   ]
  },
  {
   "cell_type": "raw",
   "metadata": {},
   "source": [
    "Each tag present in an HTML table is used to either designate a section of the table, such as the <thead> tag, or it holds information that will be displayed. If one of the tags is missing or out of order, the entire table may not function correctly (or be assembled at all). Let's start constructing our table and adding information to it.\n",
    "\n",
    "In our code editor, let's begin by typing out the nested tags.\n",
    "\n",
    "          <div class=\"col-md-9\">\n",
    "            <table class=\"table table-striped\">\n",
    "              <thead>\n",
    "                <tr>\n",
    "                  <th></th>\n",
    "                </tr>\n",
    "              </thead>\n",
    "              <tbody></tbody>\n",
    "            </table>\n",
    "          </div>\n",
    "          \n",
    "We've included more Bootstrap styling by adding the classes \"table table-striped\" to the table tag. This will present a table that is slightly striped to give variation between the rows of data.\n",
    "\n",
    "The <thead> tag will have a few nested tags within it. This is our table setup: All of the information displayed as headers will be added into this tag and its nested components.\n",
    "\n",
    "The <tr> component signifies that everything nested within it will be displayed as a row of data. We will immediately see its use as we add each column header with the <th> tag.\n",
    "\n"
   ]
  },
  {
   "cell_type": "raw",
   "metadata": {},
   "source": [
    "Take another quick look at one of our data.js objects.\n",
    "\n",
    "  {\n",
    "    datetime: \"1/1/2010\",\n",
    "    city: \"benton\",\n",
    "    state: \"ar\",\n",
    "    country: \"us\",\n",
    "    shape: \"circle\",\n",
    "    durationMinutes: \"5 mins.\",\n",
    "    comments: \"4 bright green circles high in the sky going in circles then one bright green light at my front door.\"\n",
    "  },\n",
    "  \n",
    "The information in our object is present as key-value pairs (KVPs). Each object will have the same key, but different values—these keys (such as datetime, city, and state) will be our table headers.\n",
    "\n",
    "Back in our HTML code, we will need to add a <th /> tag for each table header. Let's clean up the text a bit by using proper capitalization and spacing.\n",
    "\n",
    "<th>Date</th>\n",
    "<th>City</th>\n",
    "<th>State</th>\n",
    "<th>Country</th>\n",
    "<th>Shape</th>\n",
    "<th>Duration</th>\n",
    "<th>Comments</th>\n"
   ]
  },
  {
   "cell_type": "raw",
   "metadata": {},
   "source": [
    "Save the file, then refresh the index.html page you have open in your browser—the only thing missing is the actual table data from the data.js file.\n",
    "\n"
   ]
  },
  {
   "cell_type": "raw",
   "metadata": {},
   "source": [
    "11.6.2 Add the Data\n",
    "\n",
    "The next step in getting Dana's page viewer-ready is to link D3.js, app.js, and data.js to the HTML.\n",
    "\n",
    "tie it together with the JavaScript code we created earlier. We'll tie them together by adding <script /> tags then linking to the file's location.\n",
    "\n",
    "When adding multiple <script /> links to a webpage, the order matters. The order we link our files will be the order they are executed. If we link app.js before data.js, then the app will try to build the table before the data has loaded. This will generate an error and break the table.\n",
    "\n"
   ]
  },
  {
   "cell_type": "raw",
   "metadata": {},
   "source": [
    "At the bottom of the page, under the last <div /> tag, we will need to add our scripts. There are three we need to include, in the following order:\n",
    "\n",
    "1. A link to a D3.js CDN\n",
    "2. The file path to data.js\n",
    "3. The file path to app.js\n",
    "\n",
    "These will each be added via a script tag. Let's add them now.\n",
    "\n",
    "  <script src=\"https://cdnjs.cloudflare.com/ajax/libs/d3/4.11.0/d3.js\"></script>\n",
    "  <script src=\"static/js/data.js\"></script>\n",
    "  <script src=\"static/js/app.js\"></script>"
   ]
  },
  {
   "cell_type": "raw",
   "metadata": {},
   "source": [
    "Adding the link to D3.js allows the library to \"listen\" in on our code, or react to user input. For example, if we did not add this link, our d3.select section of code in app.js wouldn't know where to insert data.\n",
    "\n",
    "We linked todata.js next because the UFO sightings data needs to be loaded before it can be accessed, as we do in the app.js script.\n",
    "\n",
    "Once the file has been saved, return to the page you opened in your browser and refresh it. The table should now be filled to the brim with UFO sightings data. Even better, the filter button should work as intended.\n",
    "\n"
   ]
  },
  {
   "cell_type": "raw",
   "metadata": {},
   "source": [
    "11.6.3 Customize the Page with CSS\n",
    "\n",
    "spruce the page up a bit. \n",
    "\n",
    "Dana wants to make use of some of the built-in styling that Bootstrap offers, but she will also need to code some of the customizations by altering the CSS associated with her webpage. \n",
    "\n",
    "The CSS customizations will take place in the style.css file we created earlier.\n",
    "\n",
    "CSS syntax, as with all coding languages, is very exact. Each customization entry follows a pattern. \n",
    "\n",
    "First, the area of customization is set, usually identified by its element, class attribute, or id attribute. A colon follows, then the value of the customization, and a semicolon completes the line of code.\n",
    "\n",
    "It's very similar to KVPs in an object; \n",
    "\n",
    "for example, a line that reads \"background-color: #292b2c;,\" background-color is the key, and the number following it is the value. This particular combination will generate a dark background with light colored text. Let's use this syntax to apply a light font color to the webpage."
   ]
  },
  {
   "cell_type": "raw",
   "metadata": {},
   "source": [
    "In our style.css sheet, enter the following lines of code:\n",
    "\n",
    "body {\n",
    "\n",
    "  color: #f7f7f7;\n",
    "}\n",
    "\n",
    "This block of code provides our webpage with specific styling instructions: We want a light text (color: #f7f7f7;) applied to the body (body {}) of the page.\n",
    "\n",
    "We chose to apply the styling to the body of the page because it is one of the outermost elements—every other visual element lies within the <body> of the page.\n",
    "\n",
    "If we were to replace \"body\" with \"h1,\" then only the h1 elements would be affected. Similarly, because we want to apply the same styling to the entire page, we can add a \"bg-dark\" class to our body element."
   ]
  },
  {
   "cell_type": "raw",
   "metadata": {},
   "source": [
    "In our index.html file, update the opening <body> tag so it looks like the line below:\n",
    "\n",
    "<body class=\"bg-dark\">\n",
    "\n",
    "This will apply a dark background to the entire page. We'll be adding this class to most of our elements so they all have the same styling. This applies a cleaner, more cohesive look to the webpage."
   ]
  },
  {
   "cell_type": "raw",
   "metadata": {},
   "source": [
    "Update the Navbar\n",
    "\n",
    "Let's also make use of Bootstrap's built-in styling, starting with the navbar. \n",
    "\n",
    "In the index.html file, let's add navbar-dark bg-dark to the <navbar> classes, like so:\n",
    "\n",
    "<nav class=\"navbar navbar-dark bg-dark navbar-expand-lg\">\n",
    "\n",
    "This will apply a dark background and light lettering to the navbar for us, without any extra styling in the CSS stylesheet."
   ]
  },
  {
   "cell_type": "raw",
   "metadata": {},
   "source": [
    "Customize the Jumbotron\n",
    "\n",
    "Next, update the jumbotron to something more appealing by changing the font and background. \n",
    "\n",
    "This time, we'll add a Bootstrap class called \"display-4\" to the <h1> element inside the jumbotron, which will change the font style and size for us.\n",
    "\n",
    "<div class=\"jumbotron\">\n",
    "  <h1 class=\"display-4\">The Truth is Out There</h1>\n",
    "</div>\n"
   ]
  },
  {
   "cell_type": "raw",
   "metadata": {},
   "source": [
    "Now let's make the background more interesting. Dana has chosen a space image to use as a background instead of a solid color; download it and save it to the \"images\" folder you created in your repo.\n",
    "\n",
    "To assign this as our new background, we'll need to use our style.css sheet. Open that file in your code editor. What we'll do next is create an entry that will style only the jumbotron element.\n",
    "\n",
    "Let's take a look at the CSS code that will style the jumbotron.\n",
    "\n",
    ".jumbotron {\n",
    "  background-image: url(\"../images/nasa.jpg\");\n",
    "  background-size: 100% 100%;\n",
    "  text-align: center;\n",
    "}\n",
    "\n",
    "This code accomplishes a few things:\n",
    "\n",
    "1. .jumbotron tells the stylesheet to apply the changes only to divs with a class of \"jumbotron.\"\n",
    "\n",
    "2. We specify a background image, then tell the code where the image is stored.\n",
    "\n",
    "3. The size of the background is set to span the entire width and height of the element, no matter the size of the viewport.\n",
    "\n",
    "4. We've aligned the text to be in the center of the element.\n"
   ]
  },
  {
   "cell_type": "raw",
   "metadata": {},
   "source": [
    "Customize the Form\n",
    "\n",
    "The form element in the HTML will also need a small update: The text is now white, but the form's background is also white by default. Identifying what the form is telling us is difficult in its current state, so let's update the font color.\n",
    "\n",
    "First, let's look at the form element in our HTML to identify which one we'll apply the styling to.\n",
    "\n",
    "<form>\n",
    " <p>Filter Search</p>\n",
    " <ul>\n",
    "   <li>\n",
    "     <label for=\"date\">Enter Date</label>\n",
    "     <input type=\"text\" placeholder=\"1/10/2010\" id=\"datetime\" />\n",
    "   </li>\n",
    "   <li>\n",
    "      <button id=\"filter-btn\" type=\"button\" class=\"btn btn-default\">\n",
    "        Filter Table\n",
    "      </button>\n",
    "   </li>\n",
    " </ul>\n",
    "</form>\n",
    "\n",
    "\n",
    "We want this element to match the dark theme we've applied to the rest of the page, so we'll add the class \"bg-dark\" to our form element.\n",
    "\n",
    "Let's also style the list element and the button to match the rest of the theme. We'll add a couple of different classes here to take advantage of Bootstrap's built-in styling."
   ]
  }
 ],
 "metadata": {
  "kernelspec": {
   "display_name": "PythonData",
   "language": "python",
   "name": "pythondata"
  },
  "language_info": {
   "codemirror_mode": {
    "name": "ipython",
    "version": 3
   },
   "file_extension": ".py",
   "mimetype": "text/x-python",
   "name": "python",
   "nbconvert_exporter": "python",
   "pygments_lexer": "ipython3",
   "version": "3.7.7"
  }
 },
 "nbformat": 4,
 "nbformat_minor": 4
}
