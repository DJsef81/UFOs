{
 "cells": [
  {
   "cell_type": "raw",
   "metadata": {},
   "source": [
    "11.4.1 Use a JavaScript for Loop\n",
    "\n",
    "Our large javascript array is huge. We'll need to iterate through it which means we'll need for loops.   \n",
    "\n",
    "All coding and scripting languages have a way to iterate through items, such as names in a list. \n",
    "\n",
    "(Like Python, JavaScript uses zero-based indexing. This means that the first item in an array will be assigned an index placement of 0.)\n",
    "\n",
    "\n",
    "\n",
    "Add the following array to your console.\n",
    "\n",
    "let friends = [\"Sarah\", \"Greg\", \"Cindy\", \"Jeff\"];\n",
    "\n",
    "To iterate through each name in JavaScript, we can create a for loop. First, type the following in your console:\n",
    "\n",
    "function listLoop(userList) {\n",
    "   for (var i = 0; i < userList.length; i++) {\n",
    "     console.log(userList[i]);\n",
    "   }\n",
    "}\n",
    "\n",
    "The keyword for is the trigger that indicates we'll be iterating through a list. The next line in the JavaScript loop does a few different things, though. This one line can be broken down into three sections.\n",
    "\n",
    "1. var i = 0 We assign an iterable variable and set its value to zero. In this loop, think of the letter 'i' to mean 'iterate.' When we assign a zero value, we're starting a counter from the beginning. You can also think of it in terms of list comprehension–the first name of the list has an index value of zero, for example.\n",
    "\n",
    "2. i < userList.length; Here we're basically saying, \"If this iterable (i) is still smaller than the total number of iterables in the list (userList), then move on to the next step.\"\n",
    "\n",
    "So if we're on the second name, but the list is four names long, the for loop will continue to loop through it.\n",
    "\n",
    "3. The final step, i++, increases the iterable by 1. We're using list comprehension here; the for loop knows to iterate to the next name because the index number has increased by 1.\n",
    "\n",
    "When the length of i is equal to the total number of items in the list, the for loop will complete its iterations and the next line of code will be executed. For example, Jeff's index position is 3; when i is equal to 3, the loop is complete. This is because there are no names after Jeff's, nothing with an index value of 4.\n",
    "\n",
    "\n",
    "\n",
    "What is the result of running the listLoop function in your console? Note: Remember to add your array of names first.\n",
    "\n",
    "listLoop(friends)\n",
    "\n",
    "Each name is logged in the console, one after the other.\n"
   ]
  },
  {
   "cell_type": "raw",
   "metadata": {},
   "source": [
    "11.4.2 Practice Using for Loops in JavaScript\n",
    "\n",
    "\n",
    "First, let's create a for loop to iterate through an array of vegetables. Here's our array:\n",
    "\n",
    "let vegetables = [\"Carrots\", \"Peas\", \"Lettuce\", \"Tomatoes\"];\n",
    "\n",
    "Now we're going to build the for loop. The syntax is exactly the same as it was earlier.\n",
    "\n",
    "for (var i = 0; i < vegetables.length; i++) {\n",
    "}\n",
    "\n",
    "keyword for to initiate the loop. \n",
    "start the loop at the beginning by assigning an iterable as zero with var i = 0;.\n",
    "\n",
    "tell the loop to continue working through the array as long as the iterable (\"i\") is less than the number of vegetables in our array: i < vegetables.length;.\n",
    "\n",
    "increase our iterable by 1 by adding i++; which tells JavaScript to move to the next item in the array until there are no more items.\n",
    "\n",
    "Let's say we also want each item in the array to be printed to the console. To do this, we'll add a console.log statement inside the curly brackets. \n",
    "Let's add a message to go with each item, too, so it will read \"I love [vegetable]\" with each iteration.\n",
    "\n",
    "The final code looks like this:\n",
    "\n",
    "var vegetables = [\"Carrots\", \"Peas\", \"Lettuce\", \"Tomatoes\"];\n",
    "\n",
    "for (var i = 0; i < vegetables.length; i++) {\n",
    "    console.log(\"I love \" + vegetables[i]);\n",
    "}"
   ]
  },
  {
   "cell_type": "raw",
   "metadata": {},
   "source": [
    "Let's practice with one more. This time we'll loop through numbers without using an array.\n",
    "\n",
    "for (var i = 0; i < 5; i++) {\n",
    "   console.log(\"I am \" + i);\n",
    "}\n",
    "\n",
    "The only difference between this loop and the previous one is that we aren't referring to an array. Instead, we are explicitly telling JavaScript to count up to a fifth value."
   ]
  }
 ],
 "metadata": {
  "kernelspec": {
   "display_name": "PythonData",
   "language": "python",
   "name": "pythondata"
  },
  "language_info": {
   "codemirror_mode": {
    "name": "ipython",
    "version": 3
   },
   "file_extension": ".py",
   "mimetype": "text/x-python",
   "name": "python",
   "nbconvert_exporter": "python",
   "pygments_lexer": "ipython3",
   "version": "3.7.7"
  }
 },
 "nbformat": 4,
 "nbformat_minor": 4
}
