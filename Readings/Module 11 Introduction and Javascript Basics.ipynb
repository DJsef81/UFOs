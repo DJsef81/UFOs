{
 "cells": [
  {
   "cell_type": "raw",
   "metadata": {},
   "source": [
    "11.0.1 Creating Dynamic Content\n",
    "\n",
    "JavaScript: technical aspects and how it applies to the field of data analytics and visualization.\n",
    "\n",
    "Is a FRONT END DEVELOPMENT LANGUAGE = add extra functionality and customizations to enhance user experience/\n",
    "Ex: A google search or hitting the \"next\" button on a page. \n",
    "\n",
    "Specific for Data Visualizations would be Dashboards. "
   ]
  },
  {
   "cell_type": "raw",
   "metadata": {},
   "source": [
    "This module we are going to learn to build a dynamic webpage. \n",
    "- accept user inputs and adjust accordingly\n",
    "- built by inserting javascript into an HTML page\n",
    "\n",
    "Will also use CSS and Bootstrap and Chrome Devtools to test our code\n",
    "\n",
    "What You Will Learn\n",
    "By the end of this module, you will be able to: \n",
    "\n",
    "Explain the strengths and weaknesses of JavaScript \"standard\" and JavaScript version ES6+.\n",
    "Describe JavaScript syntax and ideal use cases.\n",
    "Build and deploy JavaScript functions, including built-in functions.\n",
    "Convert JavaScript functions to arrow functions.\n",
    "Build and deploy forEach (JavaScript for loop).\n",
    "Create, populate, and dynamically filter a table using JavaScript and HTML\n",
    "\n",
    "In this module, you'll build a table using data stored in a JavaScript array. You'll also create filters to make this table fully dynamic, meaning that it will react to user input, and then place the table into an HTML file for easy viewing.\n",
    "\n",
    "You'll customize your webpage using Bootstrap, and equip your table with several fully functional filters that will allow users to interact with our visualizations."
   ]
  },
  {
   "cell_type": "raw",
   "metadata": {},
   "source": [
    "ECMAScript\n",
    "also referred to as \"ES,\" is a scripting language designed to help standardize JavaScript.\n",
    "\n",
    "ES provides guidelines and rules for JavaScript to follow, such as how a function should be created to run correctly, also known as the PROPER SYNTAX.\n",
    "\n",
    "for...of loops is a new syntax associated with JavaScript, so it's okay to not be familiar with it yet! We'll discuss this syntax in more detail as we learn more about the language."
   ]
  },
  {
   "cell_type": "raw",
   "metadata": {},
   "source": [
    "11.1.3 Writing JavaScript\n",
    "\n",
    "because JavaScript can be added to an HTML page, there are more guidelines and requirements than for languages that can only live in a .js file or Jupyter notebook such as Python. "
   ]
  },
  {
   "cell_type": "raw",
   "metadata": {},
   "source": [
    "Case Sensitivity: \n",
    "\n",
    "Upper and Lower case words considered different\n",
    "\n",
    "Similarly, JavaScript uses different naming conventions than Python that involve case sensitivity. Different languages utilize different methods to link words without using spaces, which is called a CASE STYLE.\n",
    "\n",
    "EX\n",
    "camelCase\n",
    "kebab-case\n",
    "snake_case\n",
    "PascalCase\n",
    "\n",
    "JavaScript's code style, according to coding guidelines and syntax, is camelCase."
   ]
  },
  {
   "cell_type": "raw",
   "metadata": {},
   "source": [
    "Semicolons:\n",
    "\n",
    "Like SQL, in JavaScript you should end statements with a semicolon, they tell JavaScript that a particular line or block of code is complete.\n",
    "\n",
    "print statement as an example. \n",
    "In JavaScript, a print statement is called a console log. \n",
    "To print \"Hello, world!\" to the console, we would use this line:\n",
    "\n",
    "// Printing a string with JavaScript\n",
    "console.log(\"Hello, world!\");"
   ]
  },
  {
   "cell_type": "raw",
   "metadata": {},
   "source": [
    "Simple JavaScript statements such as console.log() can be tested using DevTools. \n",
    "\n",
    "For example, follow these steps to test console.log(\"Hello, world!\").\n",
    "\n",
    "1. Go to Google and activate your DevTools. \n",
    "This is where we'll access our console; the console is the command line interface tool we'll use to test JavaScript, much like our terminal is used to test Python.\n",
    "\n",
    "2. Click the \"Console\" tab at the top of the screen.\n",
    "\n",
    "3. Chrome DevTools open with the Console tab selected\n",
    "\n",
    "Type console.log(\"Hello, world!\"); on the first line and then press Enter.\n",
    "\n",
    "The Console tab will allow us to see if an error has occurred and, if so, which line of code is causing the disruption.\n",
    "\n"
   ]
  },
  {
   "cell_type": "raw",
   "metadata": {},
   "source": [
    "Statements and Expressions\n",
    "\n",
    "- Statements perform actions.\n",
    "    - Assigning a variable\n",
    "\n",
    "- Expressions create values.\n",
    "    - Using arithmetic to create a new value\n",
    "\n"
   ]
  },
  {
   "cell_type": "raw",
   "metadata": {},
   "source": [
    "Code Blocks\n",
    "\n",
    "denoted by curly brackets. Code inside the curly brackets are typically indented two to four spaces to make it easier to read. "
   ]
  },
  {
   "cell_type": "raw",
   "metadata": {},
   "source": [
    "11.2.1 JavaScript Components\n",
    "\n",
    "basic JavaScript components: variables and arrays.\n",
    "\n",
    "Variables\n",
    "Before ES6 came along, there was a single way to declare a variable: var\n",
    "with ES6, two more ways to declare variables were also introduced: let and const"
   ]
  },
  {
   "cell_type": "raw",
   "metadata": {},
   "source": [
    "Create Variables with let\n",
    "\n",
    "difference between var and let is that the var declaration is global, meaning it applies to the program instead of being contained in a block of code.\n",
    "\n",
    "to use let: \"I might want to use this variable again later to hold different data, but in this code block I'll only use it once.\" \n",
    "\n",
    "In ES6+, let is typically used in place of var. We'll be using let in this module, but both are encountered out in the wild."
   ]
  },
  {
   "cell_type": "raw",
   "metadata": {},
   "source": [
    "Create Variables with const\n",
    "\n",
    "more specific than let. \n",
    "Instead of being contained within a block of code, const tells JavaScript that the variable won't be reassigned or redeclared, either in a block of code or within the program as a whole. "
   ]
  },
  {
   "cell_type": "raw",
   "metadata": {},
   "source": [
    "Arrays\n",
    "\n",
    "When coding in Python, data can be grouped together in a list. \n",
    "\n",
    "The same is true of JavaScript. \n",
    "*download our data that is in javascript format: java.js\n",
    "\n",
    "When opened, we can see we're dealing with an array as the variable, \"data\" equals a \"[\"\n",
    "var data = [\n",
    "\n",
    "This is similar to a python list, but data is arranged differently. \n",
    "Each entry is inside the square brackets, like a Python list. The similarities taper off there.\n",
    "\n",
    "Multiple data per item, so it's more like a python dictionary than a list. \n",
    "\n",
    "EX\n",
    "  {\n",
    "    datetime: \"1/1/2010\",\n",
    "    city: \"benton\",\n",
    "    state: \"ar\",\n",
    "    country: \"us\",\n",
    "    shape: \"circle\",\n",
    "    durationMinutes: \"5 mins.\",\n",
    "    comments: \"4 bright green circles high in the sky going in circles then one bright green light at my front door.\"\n",
    "  },\n",
    "  \n",
    "At the end of our javascript list we can see the main difference\n",
    "\n",
    "What is the difference between this JavaScript array and a Python dictionary?\n",
    "\n",
    "The array was closed with a square bracket and a semicolon immediately after (];). The semicolon signals that this block of code is complete."
   ]
  },
  {
   "cell_type": "raw",
   "metadata": {},
   "source": [
    "Convert the Array to a Table\n",
    "\n",
    "The data, in order for it to be easily readable, needs to be converted from a JavaScript array, into an HTML table.\n",
    "\n",
    "The first step is to create the appropriate variables using var, let, or const. \n",
    "\n",
    "Open VS Code and create a file in our repo folder named app.js. This is where we'll keep the code that builds the HTML table and fills it with data from data.js."
   ]
  },
  {
   "cell_type": "raw",
   "metadata": {},
   "source": [
    "11.2.2 Organize Your Repository\n",
    "\n",
    "before we can begin to create code and commit scripts to our repo, we need to organize it.\n",
    "\n",
    "Building a page that contains JavaScript will require us to link additional JavaScript files to the index.html file that we'll be working on later.\n",
    "\n",
    "This means keeping track of multiple things at once:\n",
    "an HTML file,\n",
    "JavaScript files, \n",
    "images (for customizing the webpage) \n",
    "and a CSS style sheet. \n",
    "\n",
    "Therefore, it's a good idea for us to establish a solid folder structure now instead of when she's elbow deep in creating her JavaScript functions."
   ]
  },
  {
   "cell_type": "raw",
   "metadata": {},
   "source": [
    "First, in the repo folder we established earlier (\"UFOs\"), create the index.htmlfile. This file is the window to our work: the table and Dana's article summary (along with titles and filters) will all be displayed through this file. We won't be coding it yet—that will come later—but we're creating it now so that it will be ready for us when it's time to build the page."
   ]
  },
  {
   "cell_type": "raw",
   "metadata": {},
   "source": [
    "Next, create a subfolder in the repo folder named \"static.\" \n",
    "This static folder will hold our static CSS file; this only means that it isn't being moved or altered externally. \n",
    "In VS code, right-click the menu and select \"New Folder,\" and then name it \"static.\"\n",
    "\n",
    "Inside the static folder, create another subfolder named \"css\" to hold the style.css file. \n",
    "\n",
    "You can use the same right-click method to bring up the creation menu, but this time select \"New File.\" \n",
    "\n",
    "We'll customize our webpage using the style.css sheet, but for now we can leave it blank. =\n",
    "\n",
    "The next subfolder we'll create is our \"static\" folder to hold whatever images we want to add to our website when it's time to customize it. Create the folder now and name it \"images.\" "
   ]
  },
  {
   "cell_type": "raw",
   "metadata": {},
   "source": [
    "The third and final subfolder we'll create is one to hold our JavaScript. \n",
    "\n",
    "Name the folder \"js\" and move the data.js andapp.jsfiles into it so that your folder structure looks like this:\n"
   ]
  },
  {
   "cell_type": "raw",
   "metadata": {},
   "source": [
    "Establishing this folder structure is a best practice when creating webpages with JavaScript. \n",
    "\n",
    "It's important to keep things organized when creating a webpage using JavaScript components, as there are even more moving pieces than a static website. \n",
    "\n",
    "We'll be linking to images and a style sheet as well as JavaScript scripts. The organization presented here provides clearly designated spots to store the code we'll be working on, making it easier to locate them as we go."
   ]
  },
  {
   "cell_type": "raw",
   "metadata": {},
   "source": [
    "11.2.3 JavaScript Objects\n",
    "\n",
    "\n",
    "The javascript array looks like a JSON, or a dictionary, so it's more complex than a simple list.\n",
    "\n",
    "Let's take a closer look at JavaScript objects and how to interact with them, which will help us as we begin to create our code."
   ]
  },
  {
   "cell_type": "raw",
   "metadata": {},
   "source": [
    "Coding in JavaScript requires proficiency with JavaScript objects. \n",
    "\n",
    "In JavaScript, many different things can be considered an \"object.\" \n",
    "We've actually already encountered one! Let's look at a snippet of code from ourdata.js array:\n",
    "\n",
    "var data = [\n",
    "  {\n",
    "    datetime: \"1/1/2010\",\n",
    "    city: \"benton\",\n",
    "    state: \"ar\",\n",
    "    country: \"us\",\n",
    "    shape: \"circle\",\n",
    "    durationMinutes: \"5 mins.\",\n",
    "    comments: \"4 bright green circles high in the sky going in circles then one bright green light at my front door.\"\n",
    "  },\n",
    "  \n",
    "In this code snippet, everything within the curly brackets is considered to be properties of a JavaScript object. The object is our variable: data.\n",
    "\n",
    "There are several ways we can access the properties, also called key-value pairs or objects, in the array."
   ]
  },
  {
   "cell_type": "raw",
   "metadata": {},
   "source": [
    "Also, objects are not limited to being contained within an array. \n",
    "\n",
    "In fact, an array itself IS an object. \n",
    "\n",
    "Dates are also objects, as are functions; and Booleans can be objects. Basically, many things can be—or are—objects. We'll get plenty of practice with objects as we start to build our website.\n",
    "\n",
    "Before building the website, we should plan it out.\n",
    "\n",
    "By using a storyboard and mapping the elements out beforehand, it will be easier to assemble them later."
   ]
  },
  {
   "cell_type": "raw",
   "metadata": {},
   "source": [
    "11.2.4 Storyboarding\n",
    "\n",
    "have an idea of what her readers will see when they view the final product.\n",
    "Once the template has been created, Dana can begin to code the JavaScript portion by first importing the data and then referencing it with a variable."
   ]
  },
  {
   "cell_type": "raw",
   "metadata": {},
   "source": [
    "Typically, developers build HTML and JavaScript elements somewhat simultaneously because they complement each other.\n",
    "\n",
    "we will switch between building the JavaScript table (within the app.js file) and the HTML page (within an index.html file).\n",
    "\n"
   ]
  },
  {
   "cell_type": "raw",
   "metadata": {},
   "source": [
    "Create a Storyboard\n",
    "\n",
    "A visual reference such as a storyboard will help Dana outline all of the elements she wants included, such as the article title, a summary, and the table itself. \n",
    "\n",
    "Then, when she begins creating JavaScript code to include the table, she'll know exactly which HTML components she'll be connecting to her table\n",
    "\n",
    "We already know what components we want to use, such as a Jumbotron for the header, and the grid system for the filters and table. (see 3.png)\n",
    "\n",
    "We also have an idea of how many columns we want each table component to use. (see 4.png)\n"
   ]
  },
  {
   "cell_type": "raw",
   "metadata": {},
   "source": [
    "Align the Code\n",
    "\n",
    "When we align our code, we're putting our plans into action, such as when we start transitioning our storyboard into a webpage. \n",
    "\n",
    "We'll start by building our COMPONENTS. \n",
    "\n",
    "The first one will be the table we generate with JavaScript. \n",
    "\n",
    "Open your app.js file with VS Code. \n",
    "\n",
    "The first thing we're going to do is import the data. This won't look like an import from Python. For starters, the double backslash ( // ) is how you comment your code in JavaScript.\n",
    "\n",
    "Next, we need to point our data to our HTML page. Specifically, we need to tell JavaScript what type of element the data will be displayed in. \n",
    "\n",
    "We already know that the data will be displayed in a table, so in our code editor we'll reference the tbody HTML tag using D3.\n",
    "\n",
    "D3 is a JavaScript library that produces sophisticated and highly dynamic graphics in an HTML webpage. It is often used by data professionals to create dashboards, or a collection of visual data (such as graphs and maps), for presentation."
   ]
  },
  {
   "cell_type": "raw",
   "metadata": {},
   "source": [
    "Next line of code: \n",
    "\n",
    "// Reference the HTML table using d3\n",
    "var tbody = d3.select(\"tbody\");\n",
    "\n",
    "With this code, we:\n",
    "\n",
    "1. Declare a variable, tbody\n",
    "2. Use d3.select to tell JavaScript to look for the <tbody> tags in the HTML\n",
    "\n",
    "Although we aren't building the HTML right now—we'll do this after we put together the code—we already know that the data will fit into that tag because it's a standard table tag that is used often in HTML, with or without JavaScript enhancements."
   ]
  }
 ],
 "metadata": {
  "kernelspec": {
   "display_name": "PythonData",
   "language": "python",
   "name": "pythondata"
  },
  "language_info": {
   "codemirror_mode": {
    "name": "ipython",
    "version": 3
   },
   "file_extension": ".py",
   "mimetype": "text/x-python",
   "name": "python",
   "nbconvert_exporter": "python",
   "pygments_lexer": "ipython3",
   "version": "3.7.7"
  }
 },
 "nbformat": 4,
 "nbformat_minor": 4
}
