{
 "cells": [
  {
   "cell_type": "raw",
   "metadata": {},
   "source": [
    "Module 11 Building Dynamic Tables\n",
    "\n",
    "11.5.1 Introduction to Dynamic Tables\n",
    "\n",
    "Now we're going to help her build the table to display all of the UFO sightings.\n",
    "\n",
    "We'll need to iterate through the array of objects in our data file and then append them to a table row.\n",
    "\n",
    "All of this will happen within a function, which makes the code self-contained.\n",
    "\n",
    "Creating self-contained code makes it easier to reuse the code and keeps us organized: the code in this function will be used to fill the table with data only.\n",
    "\n",
    "Let's get started by returning to our app.js file in the editor and, on a new line, creating a new function.\n",
    "\n",
    "Typically, functions are named after what they do. We're building a table, so we'll name the function \"buildTable.\" We'll also pass in \"data\" as the argument."
   ]
  },
  {
   "cell_type": "raw",
   "metadata": {},
   "source": [
    "In our editor, we should have the start of a new function:\n",
    "\n",
    "function buildTable(data) {\n",
    "\n",
    "}\n",
    "\n",
    "We're using a standard JavaScript function instead of an arrow function because we are going to add another function inside it. \n",
    "\n",
    "In the next line, we'll want to use code to clear existing data.\n",
    "Clearing existing data is important because we’ll be appending data from the array in the following code. Without clearing it, the users will end up with pre-filtered data."
   ]
  },
  {
   "cell_type": "raw",
   "metadata": {},
   "source": [
    "The line we'll use to clear the data is tbody.html(\"\");. But how exactly is this code clearing data?\n",
    "\n",
    "tbody.html references the table, pointing JavaScript directly to the table in the HTML page we're going to build.\n",
    "\n",
    "The parentheses with empty quotes ((\"\");) is an empty string.\n",
    "\n",
    "Basically, this entire line—tbody.html(\"\");—tells JavaScript to use an empty string when creating the table; in other words, create a blank canvas. This is a standard way to clear data.\n",
    "\n",
    "Here is what our code looks like with the addition of this line:\n",
    "\n",
    "function buildTable(data) {\n",
    "  tbody.html(\"\");\n",
    "}"
   ]
  },
  {
   "cell_type": "raw",
   "metadata": {},
   "source": [
    "11.5.2 Add forEach to Your Table\n",
    "\n",
    "To add data to our table, we'll need to create another function specifically for building the table. \n",
    "Data from the data.js file will be inserted into the table, row by row. \n",
    "\n",
    "We'll use a forEach function, which loops through the array in the same way as a for loop. The difference is that forEach works only with arrays. forEach can be combined with an arrow function, so code is concise and easy to read."
   ]
  },
  {
   "cell_type": "raw",
   "metadata": {},
   "source": [
    "Add the forEach Function\n",
    "\n",
    "This function works in the same way as a for loop. In your code editor, type the following:\n",
    "\n",
    "   data.forEach((dataRow) => {\n",
    "\n",
    "    });\n",
    "    \n",
    "We're using an arrow function here because it's a cleaner way to write a forEach loop. \n",
    "data = An object that references the data being imported\n",
    "forEach = The keywords to create a for loop in JavaScript\n",
    "((dataRow) = A parameter that will be used as a value when the function is called\n",
    "\n",
    "With this new function, we have essentially chained a for loop to our data. We also added an argument (dataRow) that will represent each row of the data as we iterate through the array."
   ]
  },
  {
   "cell_type": "raw",
   "metadata": {},
   "source": [
    "Now we want to create a variable that will append a row to the table body. Within this forEach function, add the following code:\n",
    "\n",
    "   let row = tbody.append(\"tr\");\n",
    "   \n",
    "We're using let instead of var to declare the row variable because this variable is limited to just this block of code. It's more appropriate to use var when we want the variable to be available globally, or throughout all of the code.\n",
    "\n",
    "This single line of code tells JavaScript to find the <tbody> tag within the HTML and add a table row (\"tr\").\n",
    "\n",
    "We'll get back to HTML when it's time to display our table, but for now keep in mind that the <tr> tags are used for each row in a table. Each object, or UFO sighting, in the array will be wrapped in a <tr> tag.\n",
    "\n"
   ]
  },
  {
   "cell_type": "raw",
   "metadata": {},
   "source": [
    "Loop Through Data Rows\n",
    "\n",
    "Next, we'll add code to loop through each field in the dataRow argument.\n",
    "\n",
    "These fields will become table data and will be wrapped in <td> tags when they're appended to the HTML table. \n",
    "\n",
    "It gets a little confusing here, but we're going to set up another function within our original function for the forEach loop.\n",
    "\n",
    "Below the line where we appended table rows, we'll set up another function:\n",
    "\n",
    "   Object.values(dataRow).forEach((val) => {\n",
    "});\n",
    "\n",
    "We're already working with an array of objects, where each object is a UFO sighting. By starting our line of code with Object.values, we're telling JavaScript to reference one object from the array of UFO sightings. \n",
    "\n",
    "By adding (dataRow) as the argument, we are saying that we want the values to go into the dataRow. W\n",
    "\n",
    "e've added forEach((val) to specify that we want one object per row.\n",
    "\n",
    "we're telling our code put each sighting onto its own row of data. The val argument represents each item in the object, such as the location, shape, or duration."
   ]
  },
  {
   "cell_type": "raw",
   "metadata": {},
   "source": [
    "In the next two lines of code, we'll append each value of the object to a cell in the table. \n",
    "\n",
    "In our editor, the next few lines of code will go inside our new function. Let's first create a variable to append data to a table:\n",
    "\n",
    "   let cell = row.append(\"td\");\n",
    "   \n",
    "With this line, we've set up the action of appending data into a table data tag (<td>). \n",
    "\n",
    "Now, in the next line we'll add the values.\n",
    "\n",
    "   cell.text(val);\n",
    "   \n",
    "This is the variable that holds only each value from the object. When we chain .text(value) to the variable, we are extracting only the text of the value."
   ]
  },
  {
   "cell_type": "raw",
   "metadata": {},
   "source": [
    "Let's take a look at our fully assembled function:\n",
    "\n",
    "  data.forEach((dataRow) => {\n",
    "    let row = tbody.append(\"tr\");\n",
    "    Object.values(dataRow).forEach((val) => {\n",
    "      let cell = row.append(\"td\");\n",
    "      cell.text(val);\n",
    "      }\n",
    "    );\n",
    "  });\n",
    "  \n",
    "With this function, we have done the following:\n",
    "\n",
    "Looped through each object in the array\n",
    "Appended a row to the HTML table\n",
    "Added each value from the object into a cell\n"
   ]
  },
  {
   "cell_type": "raw",
   "metadata": {},
   "source": [
    "In theory, \n",
    "\n",
    "because we've added forEach, every object in the array will be added to its own row in the table. We'll be able to test it fully soon, but first we need to add filters to the table."
   ]
  },
  {
   "cell_type": "raw",
   "metadata": {},
   "source": [
    "function buildTable(data) {\n",
    "  // First, clear out any existing data\n",
    "  tbody.html(\"\");\n",
    "\n",
    "  // Next, loop through each object in the data\n",
    "  // and append a row and cells for each value in the row\n",
    "  data.forEach((dataRow) => {\n",
    "    // Append a row to the table body\n",
    "    let row = tbody.append(\"tr\");\n",
    "\n",
    "    // Loop through each field in the dataRow and add\n",
    "    // each value as a table cell (td)\n",
    "    Object.values(dataRow).forEach((val) => {\n",
    "      let cell = row.append(\"td\");\n",
    "      cell.text(val);\n",
    "      }\n",
    "    );\n",
    "  });\n",
    "}"
   ]
  }
 ],
 "metadata": {
  "kernelspec": {
   "display_name": "PythonData",
   "language": "python",
   "name": "pythondata"
  },
  "language_info": {
   "codemirror_mode": {
    "name": "ipython",
    "version": 3
   },
   "file_extension": ".py",
   "mimetype": "text/x-python",
   "name": "python",
   "nbconvert_exporter": "python",
   "pygments_lexer": "ipython3",
   "version": "3.7.7"
  }
 },
 "nbformat": 4,
 "nbformat_minor": 4
}
