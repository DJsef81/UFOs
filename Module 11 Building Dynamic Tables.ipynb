{
 "cells": [
  {
   "cell_type": "raw",
   "metadata": {},
   "source": [
    "Module 11 Building Dynamic Tables\n",
    "\n",
    "11.5.1 Introduction to Dynamic Tables\n",
    "\n",
    "Now we're going to help her build the table to display all of the UFO sightings.\n",
    "\n",
    "We'll need to iterate through the array of objects in our data file and then append them to a table row.\n",
    "\n",
    "All of this will happen within a function, which makes the code self-contained.\n",
    "\n",
    "Creating self-contained code makes it easier to reuse the code and keeps us organized: the code in this function will be used to fill the table with data only.\n",
    "\n",
    "Let's get started by returning to our app.js file in the editor and, on a new line, creating a new function.\n",
    "\n",
    "Typically, functions are named after what they do. We're building a table, so we'll name the function \"buildTable.\" We'll also pass in \"data\" as the argument."
   ]
  },
  {
   "cell_type": "raw",
   "metadata": {},
   "source": [
    "In our editor, we should have the start of a new function:\n",
    "\n",
    "function buildTable(data) {\n",
    "\n",
    "}\n",
    "\n",
    "We're using a standard JavaScript function instead of an arrow function because we are going to add another function inside it. \n",
    "\n",
    "In the next line, we'll want to use code to clear existing data.\n",
    "Clearing existing data is important because we’ll be appending data from the array in the following code. Without clearing it, the users will end up with pre-filtered data."
   ]
  },
  {
   "cell_type": "raw",
   "metadata": {},
   "source": [
    "The line we'll use to clear the data is tbody.html(\"\");. But how exactly is this code clearing data?\n",
    "\n",
    "tbody.html references the table, pointing JavaScript directly to the table in the HTML page we're going to build.\n",
    "\n",
    "The parentheses with empty quotes ((\"\");) is an empty string.\n",
    "\n",
    "Basically, this entire line—tbody.html(\"\");—tells JavaScript to use an empty string when creating the table; in other words, create a blank canvas. This is a standard way to clear data.\n",
    "\n",
    "Here is what our code looks like with the addition of this line:\n",
    "\n",
    "function buildTable(data) {\n",
    "  tbody.html(\"\");\n",
    "}"
   ]
  },
  {
   "cell_type": "raw",
   "metadata": {},
   "source": [
    "11.5.2 Add forEach to Your Table\n",
    "\n",
    "To add data to our table, we'll need to create another function specifically for building the table. \n",
    "Data from the data.js file will be inserted into the table, row by row. \n",
    "\n",
    "We'll use a forEach function, which loops through the array in the same way as a for loop. The difference is that forEach works only with arrays. forEach can be combined with an arrow function, so code is concise and easy to read."
   ]
  },
  {
   "cell_type": "raw",
   "metadata": {},
   "source": [
    "Add the forEach Function\n",
    "\n",
    "This function works in the same way as a for loop. In your code editor, type the following:\n",
    "\n",
    "   data.forEach((dataRow) => {\n",
    "\n",
    "    });\n",
    "    \n",
    "We're using an arrow function here because it's a cleaner way to write a forEach loop. \n",
    "data = An object that references the data being imported\n",
    "forEach = The keywords to create a for loop in JavaScript\n",
    "((dataRow) = A parameter that will be used as a value when the function is called\n",
    "\n",
    "With this new function, we have essentially chained a for loop to our data. We also added an argument (dataRow) that will represent each row of the data as we iterate through the array."
   ]
  },
  {
   "cell_type": "raw",
   "metadata": {},
   "source": [
    "Now we want to create a variable that will append a row to the table body. Within this forEach function, add the following code:\n",
    "\n",
    "   let row = tbody.append(\"tr\");\n",
    "   \n",
    "We're using let instead of var to declare the row variable because this variable is limited to just this block of code. It's more appropriate to use var when we want the variable to be available globally, or throughout all of the code.\n",
    "\n",
    "This single line of code tells JavaScript to find the <tbody> tag within the HTML and add a table row (\"tr\").\n",
    "\n",
    "We'll get back to HTML when it's time to display our table, but for now keep in mind that the <tr> tags are used for each row in a table. Each object, or UFO sighting, in the array will be wrapped in a <tr> tag.\n",
    "\n"
   ]
  },
  {
   "cell_type": "raw",
   "metadata": {},
   "source": [
    "Loop Through Data Rows\n",
    "\n",
    "Next, we'll add code to loop through each field in the dataRow argument.\n",
    "\n",
    "These fields will become table data and will be wrapped in <td> tags when they're appended to the HTML table. \n",
    "\n",
    "It gets a little confusing here, but we're going to set up another function within our original function for the forEach loop.\n",
    "\n",
    "Below the line where we appended table rows, we'll set up another function:\n",
    "\n",
    "   Object.values(dataRow).forEach((val) => {\n",
    "});\n",
    "\n",
    "We're already working with an array of objects, where each object is a UFO sighting. By starting our line of code with Object.values, we're telling JavaScript to reference one object from the array of UFO sightings. \n",
    "\n",
    "By adding (dataRow) as the argument, we are saying that we want the values to go into the dataRow. W\n",
    "\n",
    "e've added forEach((val) to specify that we want one object per row.\n",
    "\n",
    "we're telling our code put each sighting onto its own row of data. The val argument represents each item in the object, such as the location, shape, or duration."
   ]
  },
  {
   "cell_type": "raw",
   "metadata": {},
   "source": [
    "In the next two lines of code, we'll append each value of the object to a cell in the table. \n",
    "\n",
    "In our editor, the next few lines of code will go inside our new function. Let's first create a variable to append data to a table:\n",
    "\n",
    "   let cell = row.append(\"td\");\n",
    "   \n",
    "With this line, we've set up the action of appending data into a table data tag (<td>). \n",
    "\n",
    "Now, in the next line we'll add the values.\n",
    "\n",
    "   cell.text(val);\n",
    "   \n",
    "This is the variable that holds only each value from the object. When we chain .text(value) to the variable, we are extracting only the text of the value."
   ]
  },
  {
   "cell_type": "raw",
   "metadata": {},
   "source": [
    "Let's take a look at our fully assembled function:\n",
    "\n",
    "  data.forEach((dataRow) => {\n",
    "    let row = tbody.append(\"tr\");\n",
    "    Object.values(dataRow).forEach((val) => {\n",
    "      let cell = row.append(\"td\");\n",
    "      cell.text(val);\n",
    "      }\n",
    "    );\n",
    "  });\n",
    "  \n",
    "With this function, we have done the following:\n",
    "\n",
    "Looped through each object in the array\n",
    "Appended a row to the HTML table\n",
    "Added each value from the object into a cell\n"
   ]
  },
  {
   "cell_type": "raw",
   "metadata": {},
   "source": [
    "The data from the array should be put in a table with columns corresponding to the dataset. \n",
    "\n",
    "because we've added forEach, every object in the array will be added to its own row in the table. We'll be able to test it fully soon, but first we need to add filters to the table."
   ]
  },
  {
   "cell_type": "raw",
   "metadata": {},
   "source": [
    "function buildTable(data) {\n",
    "  // First, clear out any existing data\n",
    "  tbody.html(\"\");\n",
    "\n",
    "  // Next, loop through each object in the data\n",
    "  // and append a row and cells for each value in the row\n",
    "  data.forEach((dataRow) => {\n",
    "    // Append a row to the table body\n",
    "    let row = tbody.append(\"tr\");\n",
    "\n",
    "    // Loop through each field in the dataRow and add\n",
    "    // each value as a table cell (td)\n",
    "    Object.values(dataRow).forEach((val) => {\n",
    "      let cell = row.append(\"td\");\n",
    "      cell.text(val);\n",
    "      }\n",
    "    );\n",
    "  });\n",
    "}"
   ]
  },
  {
   "cell_type": "raw",
   "metadata": {},
   "source": [
    "11.5.3 Add Filters\n",
    "\n",
    "\n",
    "The code we helped create will add every object in ou data.js file to the table.\n",
    "the next step is to add the ability to filter the data. We'll be using D3.js to help Dana with this part.\n",
    "\n",
    "Data-Driven Documents (D3 for short) is a JavaScript library that adds interactive functionality, such as when users click a button to filter a table. It works by \"listening\" for events, such as a button click, then reacts according to the code we've created.\n",
    "\n",
    "Dana thinks that she would like to filter by date, so she'll add code to create a date filter.\n",
    "\n",
    "We'll need to add a second function to our code that will focus on filtering the table we just built with D3. \n",
    "\n",
    "In our code, we're going to use D3 to handle an action from a user, such as a button click.\n",
    "\n",
    "This means that we'll add an actual button to our HTML page to filter the table.\n",
    "\n",
    "Building out user-driven data visualizations is an essential part of the data visualization job; it can be tricky at first, but oh-so-satisfying when it works! Let's get started.\n",
    "\n"
   ]
  },
  {
   "cell_type": "raw",
   "metadata": {},
   "source": [
    "Return to VS Code and our app.js file and start a new function. \n",
    "\n",
    "We'll name this one \"handleClick\" because it will be handling what to do after an input is given, such as filtering the table by date.\n",
    "\n",
    "Since we're adding a date function, we need to create a couple of variables to hold our date data, both filtered and unfiltered.\n",
    "\n",
    "function handleClick() {\n",
    "    let date = d3.select(\"#datetime\").property(\"value\");\n",
    "\n",
    "So what's going on in this code? D3 looks a little different from what we're used to seeing, but that's because it's closely linked to HTML.\n",
    "\n",
    "The .select() function is a very common one used in D3. It will select the very first element that matches our selector string: \"#datetime\". The selector string is the item we're telling D3.js to look for.\n",
    "\n",
    "With d3.select(\"#datetime\"), for example, we're telling D3 to look for the #datetime id in the HTML tags. We haven't created our HTML yet, but we know that the date value will be nested within tags that have an id of \"datetime.\"\n",
    "\n",
    "By chaining .property(\"value\"); to the d3.select function, we're telling D3 not only to look for where our date values are stored on the webpage, but to actually grab that information and hold it in the \"date\" variable."
   ]
  },
  {
   "cell_type": "raw",
   "metadata": {},
   "source": [
    "Now we need to set a default filter and save it to a new variable. Our default filter will actually be the original table data because we want users to refine their search on their own terms. Let's add the new variable on the next line.\n",
    "\n",
    "let filteredData = tableData;\n",
    "\n",
    "tableData. This is the original data as imported from our data.js file. By setting the filteredData variable to our raw data, we're basically using it as a blank slate. \n",
    "\n",
    "The function we're working on right now will be run each time the filter button is clicked on the website. If no date has been entered as a filter, then all of the data will be returned instead.\n",
    "\n",
    "The next step is to check for a date filter using an if statement.\n",
    "\n"
   ]
  },
  {
   "cell_type": "raw",
   "metadata": {},
   "source": [
    "11.5.4 Use the “If” Statement\n",
    "\n",
    "\n",
    "Much like in Python, an if statement in JavaScript will check for conditions before executing the code.\n",
    "\n",
    "Our code will check for a date filter, so our if statement should read as follows; \"If there is a date already set, then use that date as a filter. If not, then return the default data.\"\n",
    "\n",
    "Look at a basic JavaScript if statement, but just for practice as this won't be part of our app.js code.\n",
    "\n",
    "// if-statement syntax\n",
    "if ( condition ) { code to execute }\n",
    "\n",
    "In its most basic form, the if statement looks similar to a function. Write pseudocode about what we want our code to do.\n",
    "\n",
    "// pseudocode practice\n",
    "if (a date is entered) {\n",
    "    Filter the default data to show only the date entered\n",
    "};"
   ]
  },
  {
   "cell_type": "raw",
   "metadata": {},
   "source": [
    "That makes a little more sense. We want JavaScript to check for a date. If one is present, we want it to return only the data with that date. Now return to our app.js file to add our if statement.\n",
    "\n",
    "if (date) {\n",
    "    filteredData = filteredData.filter(row => row.datetime === date);\n",
    "};\n",
    "\n",
    "We just created the filteredData variable. What are we doing with it in this line: filteredData = filteredData.filter(row => row.datetime === date);?\n",
    "\n",
    "We’re applying a filter method that will match the datetime value to the filtered date value.\n",
    "\n",
    "Take a look at the syntax for the .filter() method: row => row.datetime === date);. This line is what applies the filter to the table data\n",
    "\n",
    "The triple equal signs test for equality, meaning that the date in the table has to match our filter exactly."
   ]
  },
  {
   "cell_type": "raw",
   "metadata": {},
   "source": [
    "(==) vs (===)\n",
    "\n",
    "There are two ways to test for equality in JavaScript: == and ===. \n",
    "\n",
    "A triple equal sign (===) is checking for strict equality. This means that the type and value have to match perfectly.\n",
    "\n",
    "A double equals sign (==) is checking for loose equality. This means that the type and value are loosely matched.\n"
   ]
  },
  {
   "cell_type": "raw",
   "metadata": {},
   "source": [
    "When we look at our complete if statement, it should appear as follows:\n",
    "\n",
    "if (date) {\n",
    "    filteredData = filteredData.filter(row => row.datetime === date);\n",
    "  };\n",
    "  \n",
    "Our handleClick() function tells the code what to do when an event occurs (such as someone clicking a filter button), and it can apply that filtered data using an if statement.\n",
    "\n",
    "Next step..."
   ]
  },
  {
   "cell_type": "raw",
   "metadata": {},
   "source": [
    "Build the Filtered Table\n",
    "\n",
    "\n",
    "we've already set up a function to build a table: buildTable();. \n",
    "\n",
    "Now we just need to call it. Remember, we're building the function with the filtered data, so we'll use that variable as our argument.\n",
    "\n",
    "Under our if-statement, let's call the buildTablefunction.\n",
    "\n",
    "How will we call the function to build our table with the filter in place?\n",
    "\n",
    "buildTable(filteredData);\n",
    "\n",
    "\n",
    "We are passing in our filteredData variable as our argument so that only the data that matches the filter is displayed."
   ]
  },
  {
   "cell_type": "raw",
   "metadata": {},
   "source": [
    "After we pass filteredData in as our new argument, our full handleClick() function should look like the one below:\n",
    "\n",
    "function handleClick() {\n",
    "  // Grab the datetime value from the filter\n",
    "  let date = d3.select(\"#datetime\").property(\"value\");\n",
    "  let filteredData = tableData;\n",
    "\n",
    "   // Check to see if a date was entered and filter the\n",
    "  // data using that date.\n",
    "  if (date) {\n",
    "    // Apply `filter` to the table data to only keep the\n",
    "    // rows where the `datetime` value matches the filter value\n",
    "    filteredData = filteredData.filter(row => row.datetime === date);\n",
    "  };\n",
    "\n",
    "   // Rebuild the table using the filtered data\n",
    "  // @NOTE: If no date was entered, then filteredData will\n",
    "  // just be the original tableData.\n",
    "  buildTable(filteredData);\n",
    "};\n"
   ]
  },
  {
   "cell_type": "raw",
   "metadata": {},
   "source": [
    "Listen for the Event\n",
    "\n",
    "Our code is almost ready to be attached to the HTML component of our webpage. There are just a couple of loose ends to tie up. One is the clicking that will happen when someone filters the table. We have a function that handles a click, but how does the code know when a click happens?\n",
    "\n",
    "Another aspect of D3.js is that it can listen for events that occur on a webpage, such as a button click. The next code we add will be tied to the filter button we'll build on our webpage.\n",
    "\n",
    "Under our handleClick() function, add the following line of code:\n",
    "\n",
    "d3.selectAll(\"#filter-btn\").on(\"click\", handleClick);\n"
   ]
  },
  {
   "cell_type": "raw",
   "metadata": {},
   "source": [
    "Our selector string contains the id for another HTML tag. (We'll assign a unique id to a button element in the HTML called \"filter-btn\".) \n",
    "\n",
    "This time it'll be included in the button tags we create for our filter button. \n",
    "\n",
    "By adding this, we're linking our code directly to the filter button. \n",
    "\n",
    "Also, by adding .on(\"click\", handleClick);, we're telling D3 to execute our handleClick() function when the button with an id of filter-btn is clicked."
   ]
  }
 ],
 "metadata": {
  "kernelspec": {
   "display_name": "PythonData",
   "language": "python",
   "name": "pythondata"
  },
  "language_info": {
   "codemirror_mode": {
    "name": "ipython",
    "version": 3
   },
   "file_extension": ".py",
   "mimetype": "text/x-python",
   "name": "python",
   "nbconvert_exporter": "python",
   "pygments_lexer": "ipython3",
   "version": "3.7.7"
  }
 },
 "nbformat": 4,
 "nbformat_minor": 4
}
